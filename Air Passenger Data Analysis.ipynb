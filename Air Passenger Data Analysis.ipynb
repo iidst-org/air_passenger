{
 "cells": [
  {
   "cell_type": "markdown",
   "id": "dc351e7c",
   "metadata": {},
   "source": [
    "## Import Modules"
   ]
  },
  {
   "cell_type": "code",
   "execution_count": null,
   "id": "4860facd",
   "metadata": {},
   "outputs": [],
   "source": [
    "import pandas as pd\n",
    "import numpy as np\n",
    "import statsmodels.api as sm\n",
    "from statsmodels.tsa.seasonal import seasonal_decompose\n",
    "import matplotlib.pyplot as plt\n",
    "import seaborn as sns\n",
    "import warnings\n",
    "warnings.filterwarnings('ignore')"
   ]
  },
  {
   "cell_type": "markdown",
   "id": "544196b0",
   "metadata": {},
   "source": [
    "## Load the Dataset"
   ]
  },
  {
   "cell_type": "code",
   "execution_count": null,
   "id": "40a35522",
   "metadata": {},
   "outputs": [],
   "source": [
    "df = pd.read_csv('AirPassengers.csv')\n",
    "df.set_index('Month', inplace=True)\n",
    "df.head()"
   ]
  },
  {
   "cell_type": "markdown",
   "id": "2f47063a",
   "metadata": {},
   "source": [
    "## Exploratory Data Analysis"
   ]
  },
  {
   "cell_type": "code",
   "execution_count": null,
   "id": "b2346a8d",
   "metadata": {},
   "outputs": [],
   "source": [
    "plt.figure(figsize=(20, 5))\n",
    "plt.plot(df.index, df['#Passengers'], label='#Passengers')\n",
    "plt.xlabel('Date')\n",
    "plt.ylabel('#Passengers')\n",
    "plt.title('#Passengers Over Time')\n",
    "plt.legend()\n",
    "plt.grid(True)\n",
    "plt.xticks(rotation=90)\n",
    "plt.show()"
   ]
  },
  {
   "cell_type": "code",
   "execution_count": null,
   "id": "2f844898",
   "metadata": {},
   "outputs": [],
   "source": [
    "# perform seasonal decomposition\n",
    "result = seasonal_decompose(df['#Passengers'], model='multiplicative', period=12)"
   ]
  },
  {
   "cell_type": "code",
   "execution_count": null,
   "id": "0adf4890",
   "metadata": {},
   "outputs": [],
   "source": [
    "# plot the components in the graph\n",
    "sns.set(style='whitegrid')\n",
    "\n",
    "plt.figure(figsize=(18,12))\n",
    "\n",
    "# trend component\n",
    "plt.subplot(411)\n",
    "sns.lineplot(data=result.trend)\n",
    "plt.title('Trend')\n",
    "plt.xticks(rotation=90)\n",
    "\n",
    "# seasonal component\n",
    "plt.subplot(412)\n",
    "sns.lineplot(data=result.seasonal)\n",
    "plt.title('Seasonal')\n",
    "plt.xticks(rotation=90)\n",
    "\n",
    "# Residuals component\n",
    "plt.subplot(413)\n",
    "sns.lineplot(data=result.resid)\n",
    "plt.title('Residuals')\n",
    "plt.xticks(rotation=90)\n",
    "\n",
    "# Original data\n",
    "plt.subplot(414)\n",
    "sns.lineplot(data=df['#Passengers'])\n",
    "plt.title('Original Data')\n",
    "plt.xticks(rotation=90)\n",
    "\n",
    "plt.tight_layout()\n",
    "plt.show()"
   ]
  },
  {
   "cell_type": "code",
   "execution_count": null,
   "id": "d1be1c4a",
   "metadata": {},
   "outputs": [],
   "source": [
    "seasonal_period = 12"
   ]
  },
  {
   "cell_type": "code",
   "execution_count": null,
   "id": "4b2b3493",
   "metadata": {},
   "outputs": [],
   "source": [
    "from statsmodels.tsa.stattools import adfuller # Augmented Dickey-Fuller Test\n",
    "\n",
    "result = adfuller(df['#Passengers'], autolag='AIC') # Akaike Information Criterion\n",
    "print('ADF Statistic:', result[0])\n",
    "print('p-value:', result[1])"
   ]
  },
  {
   "cell_type": "code",
   "execution_count": null,
   "id": "d724e851",
   "metadata": {},
   "outputs": [],
   "source": [
    "# first order differencing\n",
    "result = adfuller(df['#Passengers'].diff().dropna(), autolag='AIC')\n",
    "print('ADF Statistic:', result[0])\n",
    "print('p-value:', result[1])"
   ]
  },
  {
   "cell_type": "code",
   "execution_count": null,
   "id": "95032cb7",
   "metadata": {},
   "outputs": [],
   "source": [
    "# second order differencing\n",
    "result = adfuller(df['#Passengers'].diff().diff().dropna(), autolag='AIC')\n",
    "print('ADF Statistic:', result[0])\n",
    "print('p-value:', result[1])"
   ]
  },
  {
   "cell_type": "code",
   "execution_count": null,
   "id": "2e5496b9",
   "metadata": {},
   "outputs": [],
   "source": [
    "# plot the differencing values\n",
    "fig, (ax1, ax2, ax3) = plt.subplots(3)\n",
    "\n",
    "ax1.plot(df)\n",
    "ax1.set_title('Original Time Series')\n",
    "ax1.axes.xaxis.set_visible(False)\n",
    "\n",
    "ax2.plot(df.diff())\n",
    "ax2.set_title('1st Order Differencing')\n",
    "ax2.axes.xaxis.set_visible(False)\n",
    "\n",
    "ax3.plot(df.diff().diff())\n",
    "ax3.set_title('2nd Order Differencing')\n",
    "ax3.axes.xaxis.set_visible(False)\n",
    "\n",
    "plt.show()"
   ]
  },
  {
   "cell_type": "code",
   "execution_count": null,
   "id": "d12edafa",
   "metadata": {},
   "outputs": [],
   "source": [
    "# the time series becomes stationary after first order differencing"
   ]
  },
  {
   "cell_type": "markdown",
   "id": "3333815a",
   "metadata": {},
   "source": [
    "## Define Parameters for ARIMA"
   ]
  },
  {
   "cell_type": "code",
   "execution_count": null,
   "id": "5fb53ff7",
   "metadata": {},
   "outputs": [],
   "source": [
    "# p = 0 # MA - Moving Average - PACF\n",
    "# d = 1 # order of differencing - I\n",
    "# q = 0 # AR - Auto Regressive - ACF"
   ]
  },
  {
   "cell_type": "code",
   "execution_count": null,
   "id": "579359ed",
   "metadata": {},
   "outputs": [],
   "source": [
    "fig, ax = plt.subplots(2, 1, figsize=(12, 7))\n",
    "sm.graphics.tsa.plot_acf(df.diff().dropna(), lags=40, ax=ax[0])\n",
    "sm.graphics.tsa.plot_pacf(df.diff().dropna(), lags=40, ax=ax[1])\n",
    "plt.show()"
   ]
  },
  {
   "cell_type": "code",
   "execution_count": null,
   "id": "c9cadad2",
   "metadata": {},
   "outputs": [],
   "source": [
    "p = 2 # pacf\n",
    "d = 1 # 1st order difference\n",
    "q = 1 # acf"
   ]
  },
  {
   "cell_type": "code",
   "execution_count": null,
   "id": "90a25b08",
   "metadata": {},
   "outputs": [],
   "source": [
    "P = 1\n",
    "D = 0\n",
    "Q = 3"
   ]
  },
  {
   "cell_type": "markdown",
   "id": "d83c0328",
   "metadata": {},
   "source": [
    "## Model Training"
   ]
  },
  {
   "cell_type": "code",
   "execution_count": null,
   "id": "34a3d7a6",
   "metadata": {},
   "outputs": [],
   "source": [
    "# define the arima model\n",
    "from statsmodels.tsa.statespace.sarimax import SARIMAX\n",
    "\n",
    "model = SARIMAX(df['#Passengers'], order=(p, d, q), seasonal_order=(P, D, Q, seasonal_period))\n",
    "fitted_model = model.fit()\n",
    "print(fitted_model.summary())"
   ]
  },
  {
   "cell_type": "markdown",
   "id": "e5d15b15",
   "metadata": {},
   "source": [
    "## Forecasting"
   ]
  },
  {
   "cell_type": "code",
   "execution_count": null,
   "id": "a4487abb",
   "metadata": {},
   "outputs": [],
   "source": [
    "# forecast for next 2 years\n",
    "forecast_steps = 24\n",
    "forecast = fitted_model.get_forecast(steps=forecast_steps)\n",
    "\n",
    "# create the date range for the forecasted values\n",
    "forecast_index = pd.date_range(start=df.index[-1], periods=forecast_steps+1, freq='M')[1:].strftime('%Y-%m') # remove start date"
   ]
  },
  {
   "cell_type": "code",
   "execution_count": null,
   "id": "8715c8f2",
   "metadata": {},
   "outputs": [],
   "source": [
    "# create a forecast dataframe\n",
    "forecast_df = pd.DataFrame({\n",
    "    \"Forecast\": list(forecast.predicted_mean),\n",
    "    \"Lower CI\": list(forecast.conf_int().iloc[:, 0]),\n",
    "    \"Upper CI\": list(forecast.conf_int().iloc[:, 1])\n",
    "}, index=forecast_index)\n",
    "\n",
    "forecast_df.head()"
   ]
  },
  {
   "cell_type": "code",
   "execution_count": null,
   "id": "358d7390",
   "metadata": {},
   "outputs": [],
   "source": [
    "# plot the forecast values\n",
    "\n",
    "plt.figure(figsize=(12, 6))\n",
    "plt.plot(df['#Passengers'], label='Historical Data')\n",
    "plt.plot(forecast_df['Forecast'], label='Forecast Data')\n",
    "plt.fill_between(forecast_df.index, forecast_df['Lower CI'], forecast_df['Upper CI'], color='k', alpha=0.1)\n",
    "plt.xlabel('Date')\n",
    "plt.ylabel('Number of Passengers')\n",
    "plt.title('Air Passengers Forecast')\n",
    "plt.xticks(rotation=90)\n",
    "plt.legend()\n",
    "plt.show()"
   ]
  },
  {
   "cell_type": "code",
   "execution_count": null,
   "id": "7f43e7ae",
   "metadata": {},
   "outputs": [],
   "source": []
  },
  {
   "cell_type": "code",
   "execution_count": null,
   "id": "1764ecd4",
   "metadata": {},
   "outputs": [],
   "source": []
  },
  {
   "cell_type": "code",
   "execution_count": null,
   "id": "1be1c3d0",
   "metadata": {},
   "outputs": [],
   "source": []
  }
 ],
 "metadata": {
  "kernelspec": {
   "display_name": "Python 3 (ipykernel)",
   "language": "python",
   "name": "python3"
  },
  "language_info": {
   "codemirror_mode": {
    "name": "ipython",
    "version": 3
   },
   "file_extension": ".py",
   "mimetype": "text/x-python",
   "name": "python",
   "nbconvert_exporter": "python",
   "pygments_lexer": "ipython3",
   "version": "3.11.5"
  }
 },
 "nbformat": 4,
 "nbformat_minor": 5
}
